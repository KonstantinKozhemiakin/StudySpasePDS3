{
 "cells": [
  {
   "cell_type": "code",
   "execution_count": 1,
   "id": "7662a63e",
   "metadata": {},
   "outputs": [],
   "source": [
    "import cv2\n",
    "import numpy as np"
   ]
  },
  {
   "cell_type": "code",
   "execution_count": 2,
   "id": "fa4656f0",
   "metadata": {},
   "outputs": [],
   "source": [
    "img = cv2.imread('cat.jpg')\n",
    "img_2 = cv2.imread('map.jpg')"
   ]
  },
  {
   "cell_type": "code",
   "execution_count": 3,
   "id": "4969a209",
   "metadata": {},
   "outputs": [],
   "source": [
    "gray = cv2.cvtColor(img, cv2.COLOR_BGR2GRAY)\n",
    "gray_2 = cv2.cvtColor(img_2, cv2.COLOR_BGR2GRAY)"
   ]
  },
  {
   "cell_type": "code",
   "execution_count": 4,
   "id": "5751ef40",
   "metadata": {},
   "outputs": [],
   "source": [
    "kernel_x = np.array([[-1, 0, 1], [-2, 0, 2], [-1, 0, 1]])\n",
    "kernel_y = np.array([[-1, -2, -1], [0, 0, 0], [1, 2, 1]])"
   ]
  },
  {
   "cell_type": "code",
   "execution_count": 5,
   "id": "774dca79",
   "metadata": {},
   "outputs": [],
   "source": [
    "sobel_x = cv2.filter2D(gray, -1, kernel_x)\n",
    "sobel_y = cv2.filter2D(gray, -1, kernel_y)\n",
    "sobel = sobel_x + sobel_y\n",
    "\n",
    "sobel_x_2 = cv2.filter2D(gray_2, -1, kernel_x)\n",
    "sobel_y_2 = cv2.filter2D(gray_2, -1, kernel_y)\n",
    "sobel_2 = sobel_x_2 + sobel_y_2"
   ]
  },
  {
   "cell_type": "code",
   "execution_count": 11,
   "id": "651a45ee",
   "metadata": {},
   "outputs": [],
   "source": [
    "cv2.imshow('Original images', img)\n",
    "cv2.imshow('SOBEL', sobel)\n",
    "cv2.waitKey(0)\n",
    "cv2.destroyAllWindows()"
   ]
  },
  {
   "cell_type": "code",
   "execution_count": 12,
   "id": "fc9a4339",
   "metadata": {},
   "outputs": [],
   "source": [
    "cv2.imshow('Original images', img_2)\n",
    "cv2.imshow('SOBEL', sobel_2)\n",
    "cv2.waitKey(0)\n",
    "cv2.destroyAllWindows()"
   ]
  },
  {
   "cell_type": "markdown",
   "id": "eac5f4ac",
   "metadata": {},
   "source": [
    "------------"
   ]
  },
  {
   "cell_type": "code",
   "execution_count": 15,
   "id": "ad5de301",
   "metadata": {},
   "outputs": [],
   "source": [
    "canny = cv2.Canny(gray, 50, 150)\n",
    "cv2.imshow('Original images', img)\n",
    "cv2.imshow('CANNY', canny)\n",
    "cv2.waitKey(0)\n",
    "cv2.destroyAllWindows()"
   ]
  },
  {
   "cell_type": "code",
   "execution_count": 16,
   "id": "24594fb2",
   "metadata": {},
   "outputs": [],
   "source": [
    "canny_2 = cv2.Canny(gray_2, 50, 150)\n",
    "cv2.imshow('Original images', img_2)\n",
    "cv2.imshow('CANNY', canny_2)\n",
    "cv2.waitKey(0)\n",
    "cv2.destroyAllWindows()"
   ]
  },
  {
   "cell_type": "markdown",
   "id": "aeb6e339",
   "metadata": {},
   "source": [
    "----------"
   ]
  },
  {
   "cell_type": "code",
   "execution_count": 20,
   "id": "7af1d78d",
   "metadata": {},
   "outputs": [],
   "source": [
    "kernel = np.array([[1, 0], [0, -1]], dtype=np.float32)\n",
    "roberts = cv2.filter2D(gray, -1, kernel)\n",
    "roberts_2 = cv2.filter2D(gray_2, -1, kernel)"
   ]
  },
  {
   "cell_type": "code",
   "execution_count": 26,
   "id": "175eb3f1",
   "metadata": {},
   "outputs": [],
   "source": [
    "cv2.imshow('Original images', img)\n",
    "cv2.imshow('Roberts', roberts)\n",
    "cv2.waitKey(0)\n",
    "cv2.destroyAllWindows()"
   ]
  },
  {
   "cell_type": "code",
   "execution_count": 22,
   "id": "7f69547c",
   "metadata": {},
   "outputs": [],
   "source": [
    "cv2.imshow('Original images', img_2)\n",
    "cv2.imshow('Roberts', roberts_2)\n",
    "cv2.waitKey(0)\n",
    "cv2.destroyAllWindows()"
   ]
  },
  {
   "cell_type": "markdown",
   "id": "044bf6f6",
   "metadata": {},
   "source": [
    "----------"
   ]
  },
  {
   "cell_type": "code",
   "execution_count": 27,
   "id": "34aaba89",
   "metadata": {},
   "outputs": [],
   "source": [
    "cv2.imshow('Original images', img)\n",
    "cv2.imshow('SOBEL', sobel)\n",
    "cv2.imshow('CANNY', canny)\n",
    "cv2.imshow('Roberts', roberts)\n",
    "cv2.waitKey(0)\n",
    "cv2.destroyAllWindows()"
   ]
  },
  {
   "cell_type": "code",
   "execution_count": 28,
   "id": "96bdd85f",
   "metadata": {},
   "outputs": [],
   "source": [
    "cv2.imshow('Original images', img_2)\n",
    "cv2.imshow('SOBEL', sobel_2)\n",
    "cv2.imshow('CANNY', canny_2)\n",
    "cv2.imshow('Roberts', roberts_2)\n",
    "cv2.waitKey(0)\n",
    "cv2.destroyAllWindows()"
   ]
  }
 ],
 "metadata": {
  "kernelspec": {
   "display_name": "Python 3",
   "language": "python",
   "name": "python3"
  },
  "language_info": {
   "codemirror_mode": {
    "name": "ipython",
    "version": 3
   },
   "file_extension": ".py",
   "mimetype": "text/x-python",
   "name": "python",
   "nbconvert_exporter": "python",
   "pygments_lexer": "ipython3",
   "version": "3.9.1"
  }
 },
 "nbformat": 4,
 "nbformat_minor": 5
}
