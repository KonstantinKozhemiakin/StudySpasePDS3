{
 "cells": [
  {
   "cell_type": "code",
   "execution_count": 19,
   "id": "b77bb565",
   "metadata": {},
   "outputs": [
    {
     "name": "stdout",
     "output_type": "stream",
     "text": [
      "1.\n",
      "Транзисторів: 10000\n",
      "Ймовірність виходу з ладу 1-го транзистора: 0.0007\n",
      "\n",
      "Математичне сподівання:  7.0\n",
      "Дисперсія:  7.0\n",
      "Середнє квадратичне відхилення:  2.6457513110645907\n"
     ]
    }
   ],
   "source": [
    "print('''1.\n",
    "Транзисторів: 10000\n",
    "Ймовірність виходу з ладу 1-го транзистора: 0.0007\n",
    "''')\n",
    "m_x = 10000 * 0.0007\n",
    "print(\"Математичне сподівання: \", m_x)\n",
    "d_x = 10000 * 0.0007\n",
    "print(\"Дисперсія: \", d_x)\n",
    "s_d = d_x**0.5\n",
    "print(\"Середнє квадратичне відхилення: \", s_d)\n",
    "\n"
   ]
  },
  {
   "cell_type": "code",
   "execution_count": 24,
   "id": "63d61cac",
   "metadata": {},
   "outputs": [
    {
     "name": "stdout",
     "output_type": "stream",
     "text": [
      "2.\n",
      "Чоловіків: 10000\n",
      "Рибалили з них: 99.99%\n",
      "\n",
      "Не рибалило:  0.00010000000000005117\n",
      "Математичне сподівання:  1.0000000000005116\n",
      "Дисперсія:  1.0000000000005116\n",
      "Середнє квадратичне відхилення:  1.0000000000002558\n"
     ]
    }
   ],
   "source": [
    "print('''2.\n",
    "Чоловіків: 10000\n",
    "Рибалили з них: 99.99%\n",
    "''')\n",
    "not_fishing = (100-99.99)/100\n",
    "print(\"Не рибалило: \", not_fishing)\n",
    "m_x = 10000 * not_fishing\n",
    "print(\"Математичне сподівання тих, хто не ловив: \", m_x)\n",
    "d_x = 10000 * not_fishing\n",
    "print(\"Дисперсія тих, хто не ловив: \", d_x)\n",
    "s_d = d_x**0.5\n",
    "print(\"Середнє квадратичне відхилення тих, хто не ловив: \", s_d)"
   ]
  },
  {
   "cell_type": "code",
   "execution_count": null,
   "id": "053ee2ee",
   "metadata": {},
   "outputs": [],
   "source": []
  }
 ],
 "metadata": {
  "kernelspec": {
   "display_name": "Python 3",
   "language": "python",
   "name": "python3"
  },
  "language_info": {
   "codemirror_mode": {
    "name": "ipython",
    "version": 3
   },
   "file_extension": ".py",
   "mimetype": "text/x-python",
   "name": "python",
   "nbconvert_exporter": "python",
   "pygments_lexer": "ipython3",
   "version": "3.9.1"
  }
 },
 "nbformat": 4,
 "nbformat_minor": 5
}
