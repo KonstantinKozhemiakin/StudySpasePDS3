{
 "cells": [
  {
   "cell_type": "code",
   "execution_count": 29,
   "id": "086a06f7",
   "metadata": {},
   "outputs": [],
   "source": [
    "import numpy as np\n",
    "import tensorflow as tf\n",
    "from sklearn.model_selection import train_test_split"
   ]
  },
  {
   "cell_type": "code",
   "execution_count": 30,
   "id": "456e35bc",
   "metadata": {},
   "outputs": [],
   "source": [
    "x = np.linspace(0, 10, 1000)\n",
    "y = 2 * x + 1 + np.random.randn(1000)"
   ]
  },
  {
   "cell_type": "code",
   "execution_count": 31,
   "id": "3aaa9b58",
   "metadata": {},
   "outputs": [],
   "source": [
    "x_train, x_test, y_train, y_test = train_test_split(x, y, test_size=0.3, random_state=42)"
   ]
  },
  {
   "cell_type": "code",
   "execution_count": 32,
   "id": "6904bc87",
   "metadata": {},
   "outputs": [
    {
     "name": "stdout",
     "output_type": "stream",
     "text": [
      "Epoch 1/100\n",
      "22/22 [==============================] - 0s 1ms/step - loss: 10.4976\n",
      "Epoch 2/100\n",
      "22/22 [==============================] - 0s 1ms/step - loss: 9.6406\n",
      "Epoch 3/100\n",
      "22/22 [==============================] - 0s 1ms/step - loss: 8.8431\n",
      "Epoch 4/100\n",
      "22/22 [==============================] - 0s 1ms/step - loss: 8.0964\n",
      "Epoch 5/100\n",
      "22/22 [==============================] - 0s 1ms/step - loss: 7.4123\n",
      "Epoch 6/100\n",
      "22/22 [==============================] - 0s 1ms/step - loss: 6.7758\n",
      "Epoch 7/100\n",
      "22/22 [==============================] - 0s 1ms/step - loss: 6.1884\n",
      "Epoch 8/100\n",
      "22/22 [==============================] - 0s 1ms/step - loss: 5.6526\n",
      "Epoch 9/100\n",
      "22/22 [==============================] - 0s 1ms/step - loss: 5.1597\n",
      "Epoch 10/100\n",
      "22/22 [==============================] - 0s 1ms/step - loss: 4.7110\n",
      "Epoch 11/100\n",
      "22/22 [==============================] - 0s 1ms/step - loss: 4.3010\n",
      "Epoch 12/100\n",
      "22/22 [==============================] - 0s 1ms/step - loss: 3.9271\n",
      "Epoch 13/100\n",
      "22/22 [==============================] - 0s 1ms/step - loss: 3.5927\n",
      "Epoch 14/100\n",
      "22/22 [==============================] - 0s 1ms/step - loss: 3.2897\n",
      "Epoch 15/100\n",
      "22/22 [==============================] - 0s 1ms/step - loss: 3.0143\n",
      "Epoch 16/100\n",
      "22/22 [==============================] - 0s 1ms/step - loss: 2.7705\n",
      "Epoch 17/100\n",
      "22/22 [==============================] - 0s 1ms/step - loss: 2.5503\n",
      "Epoch 18/100\n",
      "22/22 [==============================] - 0s 1ms/step - loss: 2.3586\n",
      "Epoch 19/100\n",
      "22/22 [==============================] - 0s 1ms/step - loss: 2.1857\n",
      "Epoch 20/100\n",
      "22/22 [==============================] - 0s 1ms/step - loss: 2.0316\n",
      "Epoch 21/100\n",
      "22/22 [==============================] - 0s 1ms/step - loss: 1.8997\n",
      "Epoch 22/100\n",
      "22/22 [==============================] - 0s 1ms/step - loss: 1.7809\n",
      "Epoch 23/100\n",
      "22/22 [==============================] - 0s 1ms/step - loss: 1.6793\n",
      "Epoch 24/100\n",
      "22/22 [==============================] - 0s 1ms/step - loss: 1.5899\n",
      "Epoch 25/100\n",
      "22/22 [==============================] - 0s 1ms/step - loss: 1.5131\n",
      "Epoch 26/100\n",
      "22/22 [==============================] - 0s 1ms/step - loss: 1.4471\n",
      "Epoch 27/100\n",
      "22/22 [==============================] - 0s 1ms/step - loss: 1.3891\n",
      "Epoch 28/100\n",
      "22/22 [==============================] - 0s 1ms/step - loss: 1.3405\n",
      "Epoch 29/100\n",
      "22/22 [==============================] - 0s 1ms/step - loss: 1.2984\n",
      "Epoch 30/100\n",
      "22/22 [==============================] - 0s 1ms/step - loss: 1.2634\n",
      "Epoch 31/100\n",
      "22/22 [==============================] - 0s 1ms/step - loss: 1.2336\n",
      "Epoch 32/100\n",
      "22/22 [==============================] - 0s 1ms/step - loss: 1.2081\n",
      "Epoch 33/100\n",
      "22/22 [==============================] - 0s 1ms/step - loss: 1.1871\n",
      "Epoch 34/100\n",
      "22/22 [==============================] - 0s 1ms/step - loss: 1.1696\n",
      "Epoch 35/100\n",
      "22/22 [==============================] - 0s 1ms/step - loss: 1.1548\n",
      "Epoch 36/100\n",
      "22/22 [==============================] - 0s 1ms/step - loss: 1.1430\n",
      "Epoch 37/100\n",
      "22/22 [==============================] - 0s 1ms/step - loss: 1.1326\n",
      "Epoch 38/100\n",
      "22/22 [==============================] - 0s 1ms/step - loss: 1.1253\n",
      "Epoch 39/100\n",
      "22/22 [==============================] - 0s 1ms/step - loss: 1.1177\n",
      "Epoch 40/100\n",
      "22/22 [==============================] - 0s 1ms/step - loss: 1.1125\n",
      "Epoch 41/100\n",
      "22/22 [==============================] - 0s 1ms/step - loss: 1.1079\n",
      "Epoch 42/100\n",
      "22/22 [==============================] - 0s 1ms/step - loss: 1.1042\n",
      "Epoch 43/100\n",
      "22/22 [==============================] - 0s 2ms/step - loss: 1.1013\n",
      "Epoch 44/100\n",
      "22/22 [==============================] - 0s 2ms/step - loss: 1.0986\n",
      "Epoch 45/100\n",
      "22/22 [==============================] - 0s 1ms/step - loss: 1.0966\n",
      "Epoch 46/100\n",
      "22/22 [==============================] - 0s 2ms/step - loss: 1.0948\n",
      "Epoch 47/100\n",
      "22/22 [==============================] - 0s 1ms/step - loss: 1.0934\n",
      "Epoch 48/100\n",
      "22/22 [==============================] - 0s 1ms/step - loss: 1.0923\n",
      "Epoch 49/100\n",
      "22/22 [==============================] - 0s 1ms/step - loss: 1.0910\n",
      "Epoch 50/100\n",
      "22/22 [==============================] - 0s 2ms/step - loss: 1.0903\n",
      "Epoch 51/100\n",
      "22/22 [==============================] - 0s 1ms/step - loss: 1.0893\n",
      "Epoch 52/100\n",
      "22/22 [==============================] - 0s 1ms/step - loss: 1.0887\n",
      "Epoch 53/100\n",
      "22/22 [==============================] - 0s 1ms/step - loss: 1.0883\n",
      "Epoch 54/100\n",
      "22/22 [==============================] - 0s 1ms/step - loss: 1.0874\n",
      "Epoch 55/100\n",
      "22/22 [==============================] - 0s 1ms/step - loss: 1.0868\n",
      "Epoch 56/100\n",
      "22/22 [==============================] - 0s 1ms/step - loss: 1.0863\n",
      "Epoch 57/100\n",
      "22/22 [==============================] - 0s 1ms/step - loss: 1.0859\n",
      "Epoch 58/100\n",
      "22/22 [==============================] - 0s 1ms/step - loss: 1.0858\n",
      "Epoch 59/100\n",
      "22/22 [==============================] - 0s 1ms/step - loss: 1.0847\n",
      "Epoch 60/100\n",
      "22/22 [==============================] - 0s 1ms/step - loss: 1.0842\n",
      "Epoch 61/100\n",
      "22/22 [==============================] - 0s 1ms/step - loss: 1.0837\n",
      "Epoch 62/100\n",
      "22/22 [==============================] - 0s 1ms/step - loss: 1.0832\n",
      "Epoch 63/100\n",
      "22/22 [==============================] - 0s 1ms/step - loss: 1.0829\n",
      "Epoch 64/100\n",
      "22/22 [==============================] - 0s 1ms/step - loss: 1.0823\n",
      "Epoch 65/100\n",
      "22/22 [==============================] - 0s 1ms/step - loss: 1.0818\n",
      "Epoch 66/100\n",
      "22/22 [==============================] - 0s 1ms/step - loss: 1.0812\n",
      "Epoch 67/100\n",
      "22/22 [==============================] - 0s 1ms/step - loss: 1.0807\n",
      "Epoch 68/100\n",
      "22/22 [==============================] - 0s 1ms/step - loss: 1.0803\n",
      "Epoch 69/100\n",
      "22/22 [==============================] - 0s 1ms/step - loss: 1.0797\n",
      "Epoch 70/100\n",
      "22/22 [==============================] - 0s 1ms/step - loss: 1.0793\n",
      "Epoch 71/100\n",
      "22/22 [==============================] - 0s 1ms/step - loss: 1.0788\n",
      "Epoch 72/100\n",
      "22/22 [==============================] - 0s 1ms/step - loss: 1.0782\n",
      "Epoch 73/100\n",
      "22/22 [==============================] - 0s 1ms/step - loss: 1.0778\n",
      "Epoch 74/100\n",
      "22/22 [==============================] - 0s 1ms/step - loss: 1.0774\n",
      "Epoch 75/100\n",
      "22/22 [==============================] - 0s 1ms/step - loss: 1.0768\n",
      "Epoch 76/100\n",
      "22/22 [==============================] - 0s 1ms/step - loss: 1.0764\n",
      "Epoch 77/100\n",
      "22/22 [==============================] - 0s 1ms/step - loss: 1.0759\n",
      "Epoch 78/100\n",
      "22/22 [==============================] - 0s 1ms/step - loss: 1.0753\n",
      "Epoch 79/100\n",
      "22/22 [==============================] - 0s 1ms/step - loss: 1.0748\n",
      "Epoch 80/100\n",
      "22/22 [==============================] - 0s 1ms/step - loss: 1.0744\n",
      "Epoch 81/100\n",
      "22/22 [==============================] - 0s 1ms/step - loss: 1.0740\n",
      "Epoch 82/100\n",
      "22/22 [==============================] - 0s 1ms/step - loss: 1.0733\n",
      "Epoch 83/100\n",
      "22/22 [==============================] - 0s 1ms/step - loss: 1.0730\n",
      "Epoch 84/100\n",
      "22/22 [==============================] - 0s 1ms/step - loss: 1.0724\n",
      "Epoch 85/100\n",
      "22/22 [==============================] - 0s 1ms/step - loss: 1.0719\n",
      "Epoch 86/100\n",
      "22/22 [==============================] - 0s 1ms/step - loss: 1.0714\n",
      "Epoch 87/100\n",
      "22/22 [==============================] - 0s 1ms/step - loss: 1.0712\n",
      "Epoch 88/100\n",
      "22/22 [==============================] - 0s 1ms/step - loss: 1.0707\n",
      "Epoch 89/100\n",
      "22/22 [==============================] - 0s 1ms/step - loss: 1.0701\n",
      "Epoch 90/100\n",
      "22/22 [==============================] - 0s 1ms/step - loss: 1.0695\n",
      "Epoch 91/100\n",
      "22/22 [==============================] - 0s 1ms/step - loss: 1.0689\n",
      "Epoch 92/100\n",
      "22/22 [==============================] - 0s 1ms/step - loss: 1.0685\n",
      "Epoch 93/100\n",
      "22/22 [==============================] - 0s 1ms/step - loss: 1.0683\n",
      "Epoch 94/100\n",
      "22/22 [==============================] - 0s 1ms/step - loss: 1.0676\n",
      "Epoch 95/100\n",
      "22/22 [==============================] - 0s 1ms/step - loss: 1.0671\n",
      "Epoch 96/100\n",
      "22/22 [==============================] - 0s 1ms/step - loss: 1.0668\n",
      "Epoch 97/100\n",
      "22/22 [==============================] - 0s 1ms/step - loss: 1.0664\n",
      "Epoch 98/100\n",
      "22/22 [==============================] - 0s 1ms/step - loss: 1.0657\n",
      "Epoch 99/100\n",
      "22/22 [==============================] - 0s 1ms/step - loss: 1.0653\n",
      "Epoch 100/100\n",
      "22/22 [==============================] - 0s 1ms/step - loss: 1.0649\n"
     ]
    }
   ],
   "source": [
    "model = tf.keras.Sequential([tf.keras.layers.Dense(units=1, input_shape=[1])])\n",
    "model.compile(loss=\"mean_squared_error\", optimizer=\"adam\")\n",
    "history = model.fit(x_train, y_train, epochs=100)"
   ]
  },
  {
   "cell_type": "code",
   "execution_count": 33,
   "id": "f0d3c7a0",
   "metadata": {},
   "outputs": [],
   "source": [
    "model.save_weights('model.h5')\n",
    "model.load_weights('model.h5')"
   ]
  },
  {
   "cell_type": "code",
   "execution_count": 34,
   "id": "68fe035f",
   "metadata": {},
   "outputs": [
    {
     "name": "stdout",
     "output_type": "stream",
     "text": [
      "10/10 [==============================] - 0s 2ms/step - loss: 1.1035\n"
     ]
    },
    {
     "data": {
      "text/plain": [
       "1.1035395860671997"
      ]
     },
     "execution_count": 34,
     "metadata": {},
     "output_type": "execute_result"
    }
   ],
   "source": [
    "model.evaluate(x_test, y_test)"
   ]
  },
  {
   "cell_type": "code",
   "execution_count": 35,
   "id": "c5b606ac",
   "metadata": {},
   "outputs": [
    {
     "name": "stdout",
     "output_type": "stream",
     "text": [
      "5.215215215215215 11.211067246363797\n"
     ]
    }
   ],
   "source": [
    "print(x_test[0], y_test[0])"
   ]
  },
  {
   "cell_type": "code",
   "execution_count": 36,
   "id": "86265a3d",
   "metadata": {},
   "outputs": [
    {
     "name": "stdout",
     "output_type": "stream",
     "text": [
      "1/1 [==============================] - 0s 38ms/step\n"
     ]
    },
    {
     "data": {
      "text/plain": [
       "array([[11.341452]], dtype=float32)"
      ]
     },
     "execution_count": 36,
     "metadata": {},
     "output_type": "execute_result"
    }
   ],
   "source": [
    "prediction = model.predict(x_test[0].reshape(1, -1))\n",
    "prediction"
   ]
  },
  {
   "cell_type": "code",
   "execution_count": null,
   "id": "47a4d6aa",
   "metadata": {},
   "outputs": [],
   "source": []
  }
 ],
 "metadata": {
  "kernelspec": {
   "display_name": "venv",
   "language": "python",
   "name": "venv"
  },
  "language_info": {
   "codemirror_mode": {
    "name": "ipython",
    "version": 3
   },
   "file_extension": ".py",
   "mimetype": "text/x-python",
   "name": "python",
   "nbconvert_exporter": "python",
   "pygments_lexer": "ipython3",
   "version": "3.11.3"
  }
 },
 "nbformat": 4,
 "nbformat_minor": 5
}
