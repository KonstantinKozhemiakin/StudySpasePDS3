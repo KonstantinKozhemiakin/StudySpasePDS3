{
 "cells": [
  {
   "cell_type": "code",
   "execution_count": 10,
   "id": "d940c2b4",
   "metadata": {},
   "outputs": [],
   "source": [
    "import matplotlib.pyplot as plt\n",
    "import numpy as np\n",
    "import pandas as pd\n",
    "import sklearn \n",
    "from sklearn.linear_model import LinearRegression\n",
    "from sklearn.preprocessing import scale\n",
    "from sklearn.model_selection import train_test_split\n",
    "from sklearn.model_selection import KFold, StratifiedKFold, cross_val_score"
   ]
  },
  {
   "cell_type": "code",
   "execution_count": 11,
   "id": "435f55ca",
   "metadata": {},
   "outputs": [],
   "source": [
    "df = pd.read_csv('petrol_consumption.csv')\n",
    "variables = ['Petrol_tax', 'Average_income', 'Paved_Highways', 'Population_Driver_licence(%)']\n",
    "x_train, x_test, y_train, y_test = train_test_split(df[variables], df['Petrol_Consumption'], random_state=47)"
   ]
  },
  {
   "cell_type": "code",
   "execution_count": 12,
   "id": "3ca04ba8",
   "metadata": {},
   "outputs": [
    {
     "name": "stdout",
     "output_type": "stream",
     "text": [
      "Old score : 0.6653280146791285\n"
     ]
    }
   ],
   "source": [
    "LinReg = LinearRegression()\n",
    "LinReg.fit(x_train, y_train)\n",
    "y_pred = LinReg.predict(x_test)\n",
    "first_score = LinReg.score(x_train, y_train)\n",
    "print('Old score :', first_score)"
   ]
  },
  {
   "cell_type": "code",
   "execution_count": 13,
   "id": "6d3e0705",
   "metadata": {},
   "outputs": [
    {
     "name": "stdout",
     "output_type": "stream",
     "text": [
      "Old RMSE : 57.9227725795299\n"
     ]
    }
   ],
   "source": [
    "mae = sklearn.metrics.mean_absolute_error(y_test, y_pred)\n",
    "mse = sklearn.metrics.mean_squared_error(y_test, y_pred)\n",
    "rmse = np.sqrt(mse)\n",
    "print('Old RMSE :', rmse)"
   ]
  },
  {
   "cell_type": "code",
   "execution_count": 25,
   "id": "bcd38c10",
   "metadata": {},
   "outputs": [],
   "source": [
    "kf = KFold(n_splits=5, shuffle=True, random_state=42)\n",
    "x, y = df[variables].values.reshape(-1, 4), df['Petrol_Consumption'].values.reshape(-1, 1)\n"
   ]
  },
  {
   "cell_type": "code",
   "execution_count": 26,
   "id": "88f4701a",
   "metadata": {},
   "outputs": [],
   "source": [
    "def rmse(score):\n",
    "    rmse = np.sqrt(-score)\n",
    "    print(f'rmse= {\"{:.2f}\".format(rmse)}')"
   ]
  },
  {
   "cell_type": "code",
   "execution_count": 27,
   "id": "e4ed8491",
   "metadata": {},
   "outputs": [
    {
     "name": "stdout",
     "output_type": "stream",
     "text": [
      "Scores for each fold: [ -4083.25587175 -10468.85637678  -2453.65941292  -3853.05818469\n",
      "  -3173.21607154]\n",
      "rmse= 69.33\n"
     ]
    }
   ],
   "source": [
    "score = cross_val_score(LinearRegression(), x, y, cv= kf, scoring=\"neg_mean_squared_error\")\n",
    "print(f'Scores for each fold: {score}')\n",
    "rmse(score.mean())"
   ]
  },
  {
   "cell_type": "code",
   "execution_count": null,
   "id": "b7f2cd1c",
   "metadata": {},
   "outputs": [],
   "source": []
  }
 ],
 "metadata": {
  "kernelspec": {
   "display_name": "Python 3",
   "language": "python",
   "name": "python3"
  },
  "language_info": {
   "codemirror_mode": {
    "name": "ipython",
    "version": 3
   },
   "file_extension": ".py",
   "mimetype": "text/x-python",
   "name": "python",
   "nbconvert_exporter": "python",
   "pygments_lexer": "ipython3",
   "version": "3.9.1"
  }
 },
 "nbformat": 4,
 "nbformat_minor": 5
}
