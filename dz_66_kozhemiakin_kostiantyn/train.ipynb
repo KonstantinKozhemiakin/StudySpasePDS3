{
 "cells": [
  {
   "cell_type": "code",
   "execution_count": 2,
   "id": "3af3ecc1",
   "metadata": {},
   "outputs": [
    {
     "name": "stdout",
     "output_type": "stream",
     "text": [
      "Found 1000 images belonging to 2 classes.\n",
      "Found 376 images belonging to 2 classes.\n",
      "Epoch 1/10\n"
     ]
    },
    {
     "name": "stderr",
     "output_type": "stream",
     "text": [
      "C:\\Users\\user\\AppData\\Local\\Temp\\ipykernel_11388\\2382986569.py:53: UserWarning: `Model.fit_generator` is deprecated and will be removed in a future version. Please use `Model.fit`, which supports generators.\n",
      "  history = model.fit_generator(train_generator,\n"
     ]
    },
    {
     "name": "stdout",
     "output_type": "stream",
     "text": [
      "100/100 [==============================] - 65s 638ms/step - loss: 0.7678 - acc: 0.4940 - val_loss: 0.6934 - val_acc: 0.4947\n",
      "Epoch 2/10\n",
      "100/100 [==============================] - 64s 639ms/step - loss: 0.6671 - acc: 0.5880 - val_loss: 0.3640 - val_acc: 0.9282\n",
      "Epoch 3/10\n",
      "100/100 [==============================] - 63s 632ms/step - loss: 0.3786 - acc: 0.8640 - val_loss: 0.1506 - val_acc: 0.9761\n",
      "Epoch 4/10\n",
      "100/100 [==============================] - 63s 628ms/step - loss: 0.3115 - acc: 0.8900 - val_loss: 0.1002 - val_acc: 0.9761\n",
      "Epoch 5/10\n",
      "100/100 [==============================] - 69s 692ms/step - loss: 0.3008 - acc: 0.9020 - val_loss: 0.0959 - val_acc: 0.9761\n",
      "Epoch 6/10\n",
      "100/100 [==============================] - 62s 622ms/step - loss: 0.2661 - acc: 0.9030 - val_loss: 0.0990 - val_acc: 0.9681\n",
      "Epoch 7/10\n",
      "100/100 [==============================] - 61s 605ms/step - loss: 0.2614 - acc: 0.9000 - val_loss: 0.0940 - val_acc: 0.9734\n",
      "Epoch 8/10\n",
      "100/100 [==============================] - 60s 601ms/step - loss: 0.2183 - acc: 0.9230 - val_loss: 0.2284 - val_acc: 0.9149\n",
      "Epoch 9/10\n",
      "100/100 [==============================] - 61s 606ms/step - loss: 0.2129 - acc: 0.9300 - val_loss: 0.0718 - val_acc: 0.9734\n",
      "Epoch 10/10\n",
      "100/100 [==============================] - 61s 609ms/step - loss: 0.1818 - acc: 0.9360 - val_loss: 0.1213 - val_acc: 0.9548\n"
     ]
    }
   ],
   "source": [
    "import tensorflow\n",
    "from keras.optimizers import RMSprop\n",
    "from keras.preprocessing.image import ImageDataGenerator\n",
    "import cv2\n",
    "from keras.models import Sequential\n",
    "from keras.layers import Conv2D, Input, ZeroPadding2D, BatchNormalization, Activation, MaxPooling2D, Flatten, Dense,Dropout\n",
    "from keras.models import Model, load_model\n",
    "from keras.callbacks import TensorBoard, ModelCheckpoint\n",
    "from sklearn.model_selection import train_test_split\n",
    "from sklearn.metrics import f1_score\n",
    "from sklearn.utils import shuffle\n",
    "import imutils\n",
    "import numpy as np\n",
    "\n",
    "model = Sequential([\n",
    "    Conv2D(100, (3,3), activation='relu', input_shape=(150, 150, 3)),\n",
    "    MaxPooling2D(2,2),\n",
    "    Conv2D(100, (3,3), activation='relu'),\n",
    "    MaxPooling2D(2,2),\n",
    "    Flatten(),\n",
    "    Dropout(0.5),\n",
    "    Dense(50, activation='relu'),\n",
    "    Dense(2, activation='softmax')\n",
    "])\n",
    "\n",
    "model.compile(optimizer='adam', loss='binary_crossentropy', metrics=['acc'])\n",
    "\n",
    "TRAINING_DIR = \"./train\"\n",
    "train_datagen = ImageDataGenerator(rescale=1.0/255,\n",
    "                                   rotation_range=40,\n",
    "                                   width_shift_range=0.2,\n",
    "                                   height_shift_range=0.2,\n",
    "                                   shear_range=0.2,\n",
    "                                   zoom_range=0.2,\n",
    "                                   horizontal_flip=True,\n",
    "                                   fill_mode='nearest')\n",
    "\n",
    "train_generator = train_datagen.flow_from_directory(TRAINING_DIR, \n",
    "                                                    batch_size=10, \n",
    "                                                    target_size=(150, 150))\n",
    "\n",
    "VALIDATION_DIR = \"./test\"\n",
    "validation_datagen = ImageDataGenerator(rescale=1.0/255)\n",
    "\n",
    "validation_generator = validation_datagen.flow_from_directory(VALIDATION_DIR, \n",
    "                                                         batch_size=10, \n",
    "                                                         target_size=(150, 150))\n",
    "\n",
    "# створення ModelCheckpoint з назвою model-010.h5\n",
    "checkpoint = ModelCheckpoint('model-{epoch:03d}.h5', monitor='val_loss', verbose=0, save_best_only=True, mode='auto')\n",
    "\n",
    "# навчання моделі та збереження моделі з назвою model-010.h5\n",
    "history = model.fit_generator(train_generator,\n",
    "                              epochs=10,\n",
    "                              validation_data=validation_generator,\n",
    "                              callbacks=[checkpoint])\n",
    "model.save('model-{epoch:03d}.h5')  # збереження моделі з назвою model-010.h5\n"
   ]
  },
  {
   "cell_type": "code",
   "execution_count": null,
   "id": "2960cac6",
   "metadata": {},
   "outputs": [],
   "source": []
  }
 ],
 "metadata": {
  "kernelspec": {
   "display_name": "venv",
   "language": "python",
   "name": "venv"
  },
  "language_info": {
   "codemirror_mode": {
    "name": "ipython",
    "version": 3
   },
   "file_extension": ".py",
   "mimetype": "text/x-python",
   "name": "python",
   "nbconvert_exporter": "python",
   "pygments_lexer": "ipython3",
   "version": "3.11.3"
  }
 },
 "nbformat": 4,
 "nbformat_minor": 5
}
